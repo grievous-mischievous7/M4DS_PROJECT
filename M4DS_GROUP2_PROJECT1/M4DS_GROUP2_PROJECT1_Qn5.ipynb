{
 "cells": [
  {
   "cell_type": "code",
   "execution_count": 1,
   "metadata": {},
   "outputs": [],
   "source": [
    "import numpy as np\n",
    "from scipy.optimize import linprog\n",
    "import imageio"
   ]
  },
  {
   "cell_type": "markdown",
   "metadata": {},
   "source": [
    "# Loading the path"
   ]
  },
  {
   "cell_type": "code",
   "execution_count": 2,
   "metadata": {},
   "outputs": [],
   "source": [
    "c_red_path = \"D:\\SEM V\\M4DS\\Project\\qn5_data\\C_red.npy\" #path to the C.npy file (red)\n",
    "c_green_path = \"D:\\SEM V\\M4DS\\Project\\qn5_data\\C_green.npy\" #path to the C.npy file (green)\n",
    "c_blue_path = \"D:\\SEM V\\M4DS\\Project\\qn5_data\\C_blue.npy\" #path to the C.npy file (blue)\n",
    "\n",
    "y_red_path = \"D:\\SEM V\\M4DS\\Project\\qn5_data\\y_red.npy\" #path to the y.npy file (red)\n",
    "y_green_path = \"D:\\SEM V\\M4DS\\Project\\qn5_data\\y_green.npy\" #path to the y.npy file (green)\n",
    "y_blue_path = \"D:\\SEM V\\M4DS\\Project\\qn5_data\\y_blue.npy\" #path to the y.npy file (blue)\n",
    "\n",
    "A_inv_red_path = \"D:\\SEM V\\M4DS\\Project\\qn5_data\\A_inv_red.npy\" #path to the A_inv.py file (red)\n",
    "A_inv_green_path = \"D:\\SEM V\\M4DS\\Project\\qn5_data\\A_inv_green.npy\" #path to the A_inv.py file (green)\n",
    "A_inv_blue_path = \"D:\\SEM V\\M4DS\\Project\\qn5_data\\A_inv_blue.npy\" #path to the A_inv.py file (blue)"
   ]
  },
  {
   "cell_type": "markdown",
   "metadata": {},
   "source": [
    "# Finding S for Red"
   ]
  },
  {
   "cell_type": "code",
   "execution_count": 3,
   "metadata": {},
   "outputs": [],
   "source": [
    "A_red = np.load(c_red_path);\n",
    "b_red = np.load(y_red_path);\n",
    "num_Rows = A_red.shape[0] \n",
    "num_Cols = A_red.shape[1]\n",
    "vF = np.ones([2*num_Cols, 1])\n",
    "mAeq = np.concatenate((A_red, -A_red), axis=1)\n",
    "vBeq = b_red\n",
    "v_LowerBound = np.full([2 * num_Cols, 1], 0)\n",
    "v_UpperBound = np.full([2 * num_Cols, 1], np.inf)\n",
    "Bounds = np.concatenate((v_LowerBound, v_UpperBound), axis=1)\n",
    "result = linprog(vF, A_eq=mAeq, b_eq=vBeq, bounds=Bounds)\n",
    "v_UV = result.x\n",
    "s_red= v_UV[0:num_Cols] - v_UV[num_Cols:]\n",
    "np.save(\"s_red\", s_red);"
   ]
  },
  {
   "cell_type": "markdown",
   "metadata": {},
   "source": [
    "# Finding S for Green"
   ]
  },
  {
   "cell_type": "code",
   "execution_count": 4,
   "metadata": {},
   "outputs": [],
   "source": [
    "\n",
    "A_green = np.load(c_green_path);\n",
    "b_green = np.load(y_green_path);\n",
    "num_Rows = A_green.shape[0] \n",
    "num_Cols = A_green.shape[1]\n",
    "vF = np.ones([2*num_Cols, 1])\n",
    "mAeq = np.concatenate((A_green, -A_green), axis=1)\n",
    "vBeq = b_green\n",
    "v_LowerBound = np.full([2 * num_Cols, 1], 0)\n",
    "v_UpperBound = np.full([2 * num_Cols, 1], np.inf)\n",
    "Bounds = np.concatenate((v_LowerBound, v_UpperBound), axis=1)\n",
    "result = linprog(vF, A_eq=mAeq, b_eq=vBeq, bounds=Bounds)\n",
    "v_UV = result.x\n",
    "s_green= v_UV[0:num_Cols] - v_UV[num_Cols:]\n",
    "np.save(\"s_green\", s_green); \n"
   ]
  },
  {
   "cell_type": "markdown",
   "metadata": {},
   "source": [
    "# Finding S for Blue"
   ]
  },
  {
   "cell_type": "code",
   "execution_count": 5,
   "metadata": {},
   "outputs": [],
   "source": [
    "\n",
    "A_blue = np.load(c_blue_path);\n",
    "b_blue = np.load(y_blue_path);\n",
    "num_Rows = A_blue.shape[0] \n",
    "num_Cols = A_blue.shape[1]\n",
    "vF = np.ones([2*num_Cols, 1])\n",
    "mAeq = np.concatenate((A_blue, -A_blue), axis=1)\n",
    "vBeq = b_blue\n",
    "v_LowerBound = np.full([2 * num_Cols, 1], 0)\n",
    "v_UpperBound = np.full([2 * num_Cols, 1], np.inf)\n",
    "Bounds = np.concatenate((v_LowerBound, v_UpperBound), axis=1)\n",
    "result = linprog(vF, A_eq=mAeq, b_eq=vBeq, bounds=Bounds)\n",
    "v_UV = result.x\n",
    "s_blue = v_UV[0:num_Cols] - v_UV[num_Cols:]\n",
    "np.save(\"s_blue\", s_blue);\n",
    "\n"
   ]
  },
  {
   "cell_type": "markdown",
   "metadata": {},
   "source": [
    "# Finding A_inv for red , green and blue"
   ]
  },
  {
   "cell_type": "code",
   "execution_count": 6,
   "metadata": {},
   "outputs": [],
   "source": [
    "A_inv_red = np.load(A_inv_red_path)\n",
    "A_inv_red = A_inv_red.astype('float64')\n",
    "A_red = np.linalg.inv(A_inv_red) \n",
    "x_red = A_red.dot(s_red)"
   ]
  },
  {
   "cell_type": "code",
   "execution_count": 7,
   "metadata": {},
   "outputs": [],
   "source": [
    "A_inv_green = np.load(A_inv_green_path)\n",
    "A_inv_green = A_inv_green.astype('float64')\n",
    "A_green = np.linalg.inv(A_inv_green) \n",
    "x_green = A_green.dot(s_green)"
   ]
  },
  {
   "cell_type": "code",
   "execution_count": 8,
   "metadata": {},
   "outputs": [],
   "source": [
    "A_inv_blue = np.load(A_inv_blue_path)\n",
    "A_inv_blue = A_inv_blue.astype('float64')\n",
    "A_blue = np.linalg.inv(A_inv_blue) \n",
    "x_blue = A_blue.dot(s_blue)"
   ]
  },
  {
   "cell_type": "markdown",
   "metadata": {},
   "source": [
    "# Downloading the image"
   ]
  },
  {
   "cell_type": "code",
   "execution_count": 10,
   "metadata": {},
   "outputs": [
    {
     "name": "stderr",
     "output_type": "stream",
     "text": [
      "Lossy conversion from float64 to uint8. Range [0, 1]. Convert image to uint8 prior to saving to suppress this warning.\n"
     ]
    }
   ],
   "source": [
    "yZ_red = x_red.reshape((100,100), order='F')\n",
    "yZ_green = x_green.reshape((100,100), order='F')\n",
    "yZ_blue = x_blue.reshape((100,100), order='F')\n",
    "\n",
    "y= np.zeros((100,100,3))\n",
    "y[:,:,0] = yZ_red\n",
    "y[:,:,1] = yZ_green\n",
    "y[:,:,2] = yZ_blue\n",
    "\n",
    "imageio.imwrite('puppy_color_reconstructed.jpg', yZ)"
   ]
  },
  {
   "cell_type": "code",
   "execution_count": null,
   "metadata": {},
   "outputs": [],
   "source": []
  }
 ],
 "metadata": {
  "kernelspec": {
   "display_name": "Python 3",
   "language": "python",
   "name": "python3"
  },
  "language_info": {
   "codemirror_mode": {
    "name": "ipython",
    "version": 3
   },
   "file_extension": ".py",
   "mimetype": "text/x-python",
   "name": "python",
   "nbconvert_exporter": "python",
   "pygments_lexer": "ipython3",
   "version": "3.8.3"
  }
 },
 "nbformat": 4,
 "nbformat_minor": 4
}
