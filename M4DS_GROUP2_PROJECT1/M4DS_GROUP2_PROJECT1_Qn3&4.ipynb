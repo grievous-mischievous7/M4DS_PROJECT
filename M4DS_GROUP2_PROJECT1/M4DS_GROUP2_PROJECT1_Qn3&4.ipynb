{
  "nbformat": 4,
  "nbformat_minor": 0,
  "metadata": {
    "colab": {
      "name": "M4DS_GROUP2_PROJECT1_Qn3&4.ipynb",
      "provenance": []
    },
    "kernelspec": {
      "name": "python3",
      "display_name": "Python 3"
    },
    "language_info": {
      "name": "python"
    }
  },
  "cells": [
    {
      "cell_type": "code",
      "metadata": {
        "colab": {
          "base_uri": "https://localhost:8080/"
        },
        "id": "MNuoQQ4ylXbK",
        "outputId": "272b8fc1-0bae-4315-a4fe-5cb340d9dddf"
      },
      "source": [
        "from google.colab import drive\n",
        "drive.mount('/content/drive')"
      ],
      "execution_count": 1,
      "outputs": [
        {
          "output_type": "stream",
          "name": "stdout",
          "text": [
            "Drive already mounted at /content/drive; to attempt to forcibly remount, call drive.mount(\"/content/drive\", force_remount=True).\n"
          ]
        }
      ]
    },
    {
      "cell_type": "code",
      "metadata": {
        "id": "tNDaHQ2Rmw4x"
      },
      "source": [
        "import numpy as np\n",
        "from scipy.optimize import linprog\n",
        "import matplotlib.pyplot as plt\n",
        "import numpy as np\n",
        "from scipy.optimize import linprog\n",
        "import imageio\n",
        "import warnings\n",
        "warnings.filterwarnings('ignore')"
      ],
      "execution_count": 2,
      "outputs": []
    },
    {
      "cell_type": "code",
      "metadata": {
        "id": "IuJCat3Ol2as"
      },
      "source": [
        "C_path = \"/content/drive/MyDrive/Colab Notebooks/m4ds project/C.npy\"\n",
        "y_path = \"/content/drive/MyDrive/Colab Notebooks/m4ds project/y.npy\"\n",
        "A_inv_path = \"/content/drive/MyDrive/Colab Notebooks/m4ds project/A_inv.npy\""
      ],
      "execution_count": 3,
      "outputs": []
    },
    {
      "cell_type": "markdown",
      "metadata": {
        "id": "rKXgrUGUzt7k"
      },
      "source": [
        "# **Question 3**\n",
        "<center>\n",
        "$\\min \\limits_{s} ||s||_1 $ \n",
        "<br>such that\n",
        "$||y-Cs||_2^2=0$</center> "
      ]
    },
    {
      "cell_type": "code",
      "metadata": {
        "id": "z7GeDyAzmfhi"
      },
      "source": [
        "C = np.load(C_path);\n",
        "b = np.load(y_path);\n",
        "num_Rows = C.shape[0] \n",
        "num_Cols = C.shape[1]\n",
        "vF = np.ones([2*num_Cols, 1])\n",
        "mAeq = np.concatenate((C, -C), axis=1)\n",
        "vBeq = b\n",
        "v_LowerBound = np.full([2 * num_Cols, 1], 0)\n",
        "v_UpperBound = np.full([2 * num_Cols, 1], np.inf)\n",
        "Bounds = np.concatenate((v_LowerBound, v_UpperBound), axis=1)\n",
        "result = linprog(vF, A_eq=mAeq, b_eq=vBeq, bounds=Bounds)\n",
        "v_UV = result.x\n",
        "s = v_UV[0:num_Cols] - v_UV[num_Cols:]\n",
        "np.save('s', s)"
      ],
      "execution_count": 5,
      "outputs": []
    },
    {
      "cell_type": "markdown",
      "metadata": {
        "id": "YiQnid3Y0qGE"
      },
      "source": [
        "# **Question 4**\n",
        "\n",
        "\n"
      ]
    },
    {
      "cell_type": "code",
      "metadata": {
        "id": "rePBm_ylnjm6"
      },
      "source": [
        "A_inv=np.load(A_inv_path)\n",
        "A_inv = A_inv.astype('float64')\n",
        "A = np.linalg.inv(A_inv)\n",
        "x = A.dot(s)\n",
        "np.save('x', x)"
      ],
      "execution_count": 6,
      "outputs": []
    },
    {
      "cell_type": "code",
      "metadata": {
        "id": "QJElsdobo23v"
      },
      "source": [
        "x_path = \"/content/x.npy\"\n",
        "s_path = \"/content/s.npy\"\n"
      ],
      "execution_count": 7,
      "outputs": []
    },
    {
      "cell_type": "code",
      "metadata": {
        "id": "eNWeqmeYy__2"
      },
      "source": [
        "y = x.reshape((100,100), order='F')\n",
        "imageio.imwrite('group2_image.png', y)\n"
      ],
      "execution_count": null,
      "outputs": []
    }
  ]
}